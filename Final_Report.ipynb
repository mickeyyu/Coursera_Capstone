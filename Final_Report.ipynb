{
 "cells": [
  {
   "cell_type": "markdown",
   "metadata": {},
   "source": [
    "# Capstone Project: Relocating to Chittenden County, Vermont"
   ]
  },
  {
   "cell_type": "markdown",
   "metadata": {},
   "source": [
    "### Author M.Yu"
   ]
  },
  {
   "cell_type": "markdown",
   "metadata": {},
   "source": [
    "### 1. Discussion/Background"
   ]
  },
  {
   "cell_type": "markdown",
   "metadata": {},
   "source": [
    "**CommunityDataHelp** is a volunteer-based non-profit group to promote the use of data science to help \n",
    "community members in variety of issues. Lately, a client contacted us. The client's family \n",
    "wanted to relocate to Chittenden County, Vermont. \n",
    "\n",
    "After a long discussion with our client, we gathered the client's requirements as follows:\n",
    "1. Need to buy a house, but do not want to pay real estate agent fees.\n",
    "2. Price range $350,000 to $450,000.\n",
    "3. Need to have 3 or 4 bedrooms.\n",
    "4. Need to have minimum 2 baths.\n",
    "5. Need to have a reputable supermarket or grocery store within an mile from the candidate location.\n",
    "6. Need to have a reputable pizza restraunt within an mile from the candidate location."
   ]
  },
  {
   "cell_type": "markdown",
   "metadata": {},
   "source": [
    "Now we have client's requirement list. Let's address how to resolve them.\n",
    "\n",
    "***First***, we searched online websites, and found that there exists a **For-Sale-By-Owner (FSBO)** website https://www.picketfencepreview.com/, where home sellers advertise their home \n",
    "with property location, address, price, and features including the number of bedrooms and baths. Potential buyers can contact sellers directly without a real estate agent being involved. This way, both buys and sellers do not need to pay any real estate agent fees. \n",
    "\n",
    "***Second***, we found that https://www.picketfencepreview.com has an extensive sale-list coverage for Vermont counties including **Chitteden**: https://www.picketfencepreview.com/buy-a-home/homes-for-sale-by-county/state/VT/county/Chittenden, where we can use BeautifulSoup to scrape address, price, address, baths information. Then we will perform query to obtain the list of home-for-sale which meet client's requirement for price, bedrooms, baths requirements.\n",
    "              \n",
    "***Third***, we shall obtain geographical coordinate location data of each home-for-sale in \n",
    "Chittenden county. Then we will obtain Foursquare location data for nearby venues and \n",
    "their corresponding ratings and tips to determine the venue quality.\n",
    "\n",
    "***Finaly***, based on all above, we shall pick a neighborhood that meets our client's requirements.\n",
    "\n",
    "\n",
    "**Important Note**: \n",
    "For privacy concerns, contact information is not scraped for this project."
   ]
  },
  {
   "cell_type": "markdown",
   "metadata": {},
   "source": [
    "### 2. Data Section"
   ]
  },
  {
   "cell_type": "markdown",
   "metadata": {},
   "source": [
    "In this section, we shall gather data as follows:\n",
    "##### 1. Home-for-sale data (address, price, bedrooms, baths) in Chittenden Count, Vermont from website\n",
    "https://www.picketfencepreview.com/buy-a-home/homes-for-sale-by-county/state/VT/county/Chittenden\n",
    "##### 2. Obtain geo-location data (latitude and longitude) for each house for sale.\n",
    "##### 3. Using Foursquare API (https://developer.foursquare.com/) to obtain Foursquare data of nearby venues for name, category, location, and ratings etc."
   ]
  },
  {
   "cell_type": "markdown",
   "metadata": {},
   "source": [
    "### 3. Methodology Section"
   ]
  },
  {
   "cell_type": "markdown",
   "metadata": {},
   "source": [
    "**First**, we import all required python libraries.\n",
    "\n",
    "**Second**, we retrieve data from ***Picket Fence Preview*** \n",
    "website https://www.picketfencepreview.com/buy-a-home/homes-for-sale-by-county/state/VT/county/Chittenden\n",
    ", and store in a soup object. From the soup object, we scrape out Home-for-sale data \n",
    "(address, price, bedrooms, baths) in Chittenden Count, Vermont. \n",
    "We converted Price, Bedrooms, Baths to numerics so that we can perform logic comparision later on.\n",
    "All data stored in dataframe 'house'.\n",
    "\n",
    "**Third**, we use geopy Nominatin package to extract out geo-location data (latitude, longitude) for each house-for-sale (neighborhood)\n",
    "\n",
    "**Fourth**, we use Foursquare API to explore venues within a mile (1600 meters) radius of each neighborhood. We obtain venues \n",
    "data (Name, Category, Latitude, Longitude, ID, Rating) and stored in 'venues' dataframe.\n",
    "\n",
    "**Fifth**, we apply client's requirements on neighborhood for Prie, Bedrooms, and Bath\n",
    "to narrow down the candidate neighborhood.\n",
    "\n",
    "**Finaly**, we compare venue ratings for the narrow down neighborhood, and store final neighborhood\n",
    "on 'final' dataframe."
   ]
  },
  {
   "cell_type": "markdown",
   "metadata": {},
   "source": [
    "### 4. Results"
   ]
  },
  {
   "cell_type": "markdown",
   "metadata": {},
   "source": [
    "From the 'final' dataframe where final choice of neighborhood is selected, it contains\n",
    "all the data that meets client's requirement for **Price** ($350,000 to $450,000), \n",
    "**Bedrooms** (3, or 4), **Baths** (minumum 2), venues (**Supermarket**, and **Pizza Place**), \n",
    "and venue **Rating**."
   ]
  },
  {
   "cell_type": "markdown",
   "metadata": {},
   "source": [
    "### 5. Discussions"
   ]
  },
  {
   "cell_type": "markdown",
   "metadata": {},
   "source": [
    "We have used to data science tools and helped to meet our client's need of finding the right \n",
    "house within client's requirements when relocating to Chittenden County, Vermont. The biggest \n",
    "challenge of all is to find the\n",
    "right website where we can find **For-Sale-By-Owner** house listings so that client does not \n",
    "have to resort to a real estate agent and pay high commission when buying a home. Once we \n",
    "found out that **Picket Fence Preview** website \n",
    "https://www.picketfencepreview.com/buy-a-home/homes-for-sale-by-county/state/VT/county/Chittenden,\n",
    ", it solved the major hurdle. One the choice emerged, we examined Foursquare data for venue ratings\n",
    "and tips. From venue tips, we can see that customers are very happy with these nearby venues. \n",
    "We believe this is a good neighborhood.\n"
   ]
  },
  {
   "cell_type": "markdown",
   "metadata": {},
   "source": [
    "### 6. Conclusion"
   ]
  },
  {
   "cell_type": "markdown",
   "metadata": {},
   "source": [
    "Based on above data analysis, neighborhood '***113 Covington Lane Shelburne, VT***' meets our client's \n",
    "requirements for **Price, Bedrooms, Baths**, nearby venues **Supermarket**, and **Pizza Place** with good rating.\n",
    "We selected this neighborhood to our client as our final recommendation."
   ]
  },
  {
   "cell_type": "code",
   "execution_count": null,
   "metadata": {},
   "outputs": [],
   "source": []
  }
 ],
 "metadata": {
  "kernelspec": {
   "display_name": "Python 3",
   "language": "python",
   "name": "python3"
  },
  "language_info": {
   "codemirror_mode": {
    "name": "ipython",
    "version": 3
   },
   "file_extension": ".py",
   "mimetype": "text/x-python",
   "name": "python",
   "nbconvert_exporter": "python",
   "pygments_lexer": "ipython3",
   "version": "3.6.5"
  }
 },
 "nbformat": 4,
 "nbformat_minor": 2
}
